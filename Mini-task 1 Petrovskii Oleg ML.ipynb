{
 "cells": [
  {
   "cell_type": "code",
   "execution_count": 2,
   "id": "60c711da",
   "metadata": {},
   "outputs": [],
   "source": [
    "import pandas as pd\n",
    "import rdkit\n",
    "from chembl_webresource_client.new_client import new_client"
   ]
  },
  {
   "cell_type": "code",
   "execution_count": 26,
   "id": "0602f9dc",
   "metadata": {},
   "outputs": [],
   "source": [
    "# Создаем API\n",
    "\n",
    "activity_api= new_client.activity.filter(target_chembl_id='CHEMBL230', type='IC50').only('molecule_chembl_id','canonical_smiles', 'standard_value', 'units')\n",
    "\n",
    "# Еще немного фильтруем ()\n",
    "\n",
    "molecule_data = activity_api.filter(type='IC50', standard_value__lte = 1000)\n",
    "\n",
    "molecule_data = list(molecule_data)\n",
    "\n",
    "# Приведение единиц измерения к одному виду\n",
    "\n",
    "l = len(molecule_data)\n",
    "for data in molecule_data:\n",
    "    unit = data['units']\n",
    "    if unit == 'uM':\n",
    "        data['standard_value'] = float(data['standard_value'])*1000\n",
    "        data['units'] = 'nM'\n",
    "    elif unit == 'umol/L':\n",
    "        data['standard_value'] = float(data['standard_value'])*1000\n",
    "        data['units'] = 'nM'\n",
    "    elif unit == \"10'-8M\":\n",
    "        data['standard_value'] = float(data['standard_value'])/10\n",
    "        data['units'] = 'nM'\n",
    "    else:\n",
    "        continue\n",
    "\n",
    "# Проверка корректности SMILES молекулы\n",
    "\n",
    "for data in molecule_data:\n",
    "    smiles = data['canonical_smiles']\n",
    "    if smiles is None:\n",
    "        molecule_data.remove(data)    \n",
    "    elif rdkit.Chem.MolFromSmiles(smiles) is None:\n",
    "        molecule_data.remove(data)\n",
    "    \n",
    "# Создание DataFrame\n",
    "\n",
    "df = pd.DataFrame(molecule_data)\n",
    "\n",
    "# Фильтрация от дубликатов, фильтрация по 'standard_value' и по 'units'\n",
    "\n",
    "df = pd.DataFrame.drop_duplicates(df, subset='canonical_smiles')\n",
    "df['standard_value'] = pd.to_numeric(df['standard_value'], errors='coerce')\n",
    "df = df[df['standard_value'] <= 1000]\n",
    "df = df[df['units'] == 'nM']\n",
    "\n",
    "# Запись результата в .csv файл\n",
    "\n",
    "with open('Parsing_res.csv', 'w', newline='', encoding='utf-8'):\n",
    "    df.to_csv('Parsing_res.csv', columns = ['molecule_chembl_id','canonical_smiles', 'standard_value', 'units'], index = False)\n",
    "\n"
   ]
  },
  {
   "cell_type": "code",
   "execution_count": null,
   "id": "ebba2f21",
   "metadata": {},
   "outputs": [],
   "source": []
  }
 ],
 "metadata": {
  "kernelspec": {
   "display_name": "jupyter",
   "language": "python",
   "name": "jupyter"
  },
  "language_info": {
   "codemirror_mode": {
    "name": "ipython",
    "version": 3
   },
   "file_extension": ".py",
   "mimetype": "text/x-python",
   "name": "python",
   "nbconvert_exporter": "python",
   "pygments_lexer": "ipython3",
   "version": "3.11.12"
  }
 },
 "nbformat": 4,
 "nbformat_minor": 5
}
