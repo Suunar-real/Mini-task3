{
 "cells": [
  {
   "cell_type": "code",
   "execution_count": 1,
   "id": "60c711da",
   "metadata": {},
   "outputs": [],
   "source": [
    "import pandas as pd\n",
    "import rdkit\n",
    "from chembl_webresource_client.new_client import new_client"
   ]
  },
  {
   "cell_type": "code",
   "execution_count": 23,
   "id": "0602f9dc",
   "metadata": {},
   "outputs": [
    {
     "name": "stdout",
     "output_type": "stream",
     "text": [
      "<class 'pandas.core.frame.DataFrame'>\n",
      "RangeIndex: 7378 entries, 0 to 7377\n",
      "Data columns (total 8 columns):\n",
      " #   Column              Non-Null Count  Dtype \n",
      "---  ------              --------------  ----- \n",
      " 0   canonical_smiles    7344 non-null   object\n",
      " 1   molecule_chembl_id  7378 non-null   object\n",
      " 2   relation            6377 non-null   object\n",
      " 3   standard_relation   6377 non-null   object\n",
      " 4   standard_units      6396 non-null   object\n",
      " 5   standard_value      6377 non-null   object\n",
      " 6   units               6396 non-null   object\n",
      " 7   value               6377 non-null   object\n",
      "dtypes: object(8)\n",
      "memory usage: 461.3+ KB\n"
     ]
    }
   ],
   "source": [
    "# Создаем API, фильтруя результаты по id таргетной молекулы и типу активности\n",
    "\n",
    "activity_api= new_client.activity.filter(target_chembl_id='CHEMBL230', type='IC50').only('molecule_chembl_id','canonical_smiles', 'standard_relation', 'standard_value', 'standard_units')\n",
    "molecule_data = list(activity_api)\n",
    "            \n",
    "# Создание DataFrame\n",
    "\n",
    "df = pd.DataFrame(molecule_data)\n",
    "df.info()\n",
    "\n",
    "# Проверка SMILES\n",
    "\n",
    "def smiles_check(smiles_str):\n",
    "    if rdkit.Chem.MolFromSmiles(smiles_str) is None:\n",
    "        return False\n",
    "    else:\n",
    "        return True\n",
    "\n",
    "df = df.dropna(subset=['canonical_smiles']) # Удаляем строчки со значением Nan в столбце 'canonical_smiles'\n",
    "df = df[df['canonical_smiles'].apply(smiles_check) == True]\n",
    "\n",
    "# Перевод строчки 'standard_value' в численный формат\n",
    "\n",
    "df['standard_value'] = pd.to_numeric(df['standard_value'], errors='coerce')\n",
    "\n",
    "# Отфильтровываем значения в nM\n",
    "\n",
    "df = df[df['standard_units'] == 'nM']\n",
    "\n",
    "# Удаляем дубликаты и объекты с пустыми/нулевыми значениями столбца 'standard_value'\n",
    "\n",
    "res = df[(df['standard_value'] != 0) & (df['standard_value'] != '')]\n",
    "res = pd.DataFrame.drop_duplicates(res, subset='molecule_chembl_id')\n",
    "\n",
    "# Фильтруем объекты по значениям 'standard_value' и 'standard_relation'\n",
    "\n",
    "res = res[(res['standard_value'] <= 1000) & (res['standard_relation'] == '=')]\n",
    "\n",
    "# Запись результата в .csv файл\n",
    "\n",
    "with open('Parsing_res.csv', 'w', newline='', encoding='utf-8'):\n",
    "    res.to_csv('Parsing_res.csv', columns = ['molecule_chembl_id','canonical_smiles', 'standard_value', 'standard_units'], index = False)"
   ]
  },
  {
   "cell_type": "code",
   "execution_count": null,
   "id": "9520a460",
   "metadata": {},
   "outputs": [],
   "source": []
  }
 ],
 "metadata": {
  "kernelspec": {
   "display_name": "jupyter",
   "language": "python",
   "name": "jupyter"
  },
  "language_info": {
   "codemirror_mode": {
    "name": "ipython",
    "version": 3
   },
   "file_extension": ".py",
   "mimetype": "text/x-python",
   "name": "python",
   "nbconvert_exporter": "python",
   "pygments_lexer": "ipython3",
   "version": "3.11.12"
  }
 },
 "nbformat": 4,
 "nbformat_minor": 5
}
