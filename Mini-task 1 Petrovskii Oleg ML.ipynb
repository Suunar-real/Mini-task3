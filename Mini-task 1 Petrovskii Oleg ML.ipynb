{
 "cells": [
  {
   "cell_type": "code",
   "execution_count": 2,
   "id": "60c711da",
   "metadata": {},
   "outputs": [],
   "source": [
    "import pandas as pd\n",
    "import rdkit\n",
    "from chembl_webresource_client.new_client import new_client"
   ]
  },
  {
   "cell_type": "code",
   "execution_count": 67,
   "id": "0602f9dc",
   "metadata": {},
   "outputs": [
    {
     "name": "stdout",
     "output_type": "stream",
     "text": [
      "<class 'pandas.core.frame.DataFrame'>\n",
      "RangeIndex: 7378 entries, 0 to 7377\n",
      "Data columns (total 6 columns):\n",
      " #   Column              Non-Null Count  Dtype \n",
      "---  ------              --------------  ----- \n",
      " 0   canonical_smiles    7344 non-null   object\n",
      " 1   molecule_chembl_id  7378 non-null   object\n",
      " 2   relation            6377 non-null   object\n",
      " 3   standard_value      6377 non-null   object\n",
      " 4   units               6396 non-null   object\n",
      " 5   value               6377 non-null   object\n",
      "dtypes: object(6)\n",
      "memory usage: 346.0+ KB\n"
     ]
    }
   ],
   "source": [
    "# Создаем API, фильтруя результаты по id таргетной молекулы и типу активности\n",
    "\n",
    "activity_api= new_client.activity.filter(target_chembl_id='CHEMBL230', type='IC50').only('molecule_chembl_id','canonical_smiles', 'standard_value', 'units', 'standart relation')\n",
    "\n",
    "molecule_data = list(activity_api)\n",
    "            \n",
    "# Создание DataFrame\n",
    "\n",
    "df = pd.DataFrame(molecule_data)\n",
    "df.info()\n",
    "\n",
    "# Проверка SMILES\n",
    "\n",
    "def smiles_check(smiles_str):\n",
    "    if rdkit.Chem.MolFromSmiles(smiles_str) is None:\n",
    "        return False\n",
    "    else:\n",
    "        return True\n",
    "\n",
    "df = df.dropna(subset=['canonical_smiles']) # Удаляем Nan\n",
    "df = df[df['canonical_smiles'].apply(smiles_check) == True]\n",
    "\n",
    "# Фильтрация от дубликатов, фильтрация по 'standard_value' и по 'units'\n",
    "\n",
    "df['standard_value'] = pd.to_numeric(df['standard_value'], errors='coerce')\n",
    "\n",
    "# Отфильтровываем значения в nM\n",
    "\n",
    "df1 = df[df['units'] == 'nM']\n",
    "df1 = df[df['standard_value'] <= 1000]\n",
    "\n",
    "# Отфильтровываем значения в uM и переводим в nM\n",
    "\n",
    "df2 = df[df['units'] == 'uM']\n",
    "df2 = df2[df2['standard_value'] <= 1]\n",
    "df2['standard_value'] = pd.to_numeric(df2['standard_value'])*1000\n",
    "df2['units'] = 'nM'\n",
    "\n",
    "# Отфильтровываем значения в umol/L и переводим в nM\n",
    "\n",
    "df3 = df[df['units'] == 'umol/L']\n",
    "df3 = df3[df3['standard_value'] <= 1]\n",
    "df3['standard_value'] = pd.to_numeric(df3['standard_value'])*1000\n",
    "df3['units'] = 'nM'\n",
    "\n",
    "# Отфильтровываем значения в 10'-8M и переводим в nM\n",
    "\n",
    "df4 = df[df['units'] == \"10'-8M\"]\n",
    "df4 = df4[df4['standard_value'] <= 100]\n",
    "df4['standard_value'] = pd.to_numeric(df3['standard_value'])*10\n",
    "df4['units'] = 'nM'\n",
    "\n",
    "# Объединяем и удаляем дубликаты\n",
    "\n",
    "res = pd.concat([df1, df2, df3, df4], axis = 0)\n",
    "res = res[(res['standard_value'] != 0) & (res['standard_value'] != '')]\n",
    "res = pd.DataFrame.drop_duplicates(res, subset='molecule_chembl_id')\n",
    "\n",
    "# Запись результата в .csv файл\n",
    "\n",
    "with open('Parsing_res.csv', 'w', newline='', encoding='utf-8'):\n",
    "    res.to_csv('Parsing_res.csv', columns = ['molecule_chembl_id','canonical_smiles', 'standard_value', 'units'], index = False)\n",
    "\n"
   ]
  },
  {
   "cell_type": "code",
   "execution_count": null,
   "id": "9520a460",
   "metadata": {},
   "outputs": [],
   "source": []
  }
 ],
 "metadata": {
  "kernelspec": {
   "display_name": "jupyter",
   "language": "python",
   "name": "jupyter"
  },
  "language_info": {
   "codemirror_mode": {
    "name": "ipython",
    "version": 3
   },
   "file_extension": ".py",
   "mimetype": "text/x-python",
   "name": "python",
   "nbconvert_exporter": "python",
   "pygments_lexer": "ipython3",
   "version": "3.11.12"
  }
 },
 "nbformat": 4,
 "nbformat_minor": 5
}
