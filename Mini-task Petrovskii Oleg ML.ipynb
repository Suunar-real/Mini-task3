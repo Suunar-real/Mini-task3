{
 "cells": [
  {
   "cell_type": "code",
   "execution_count": 20,
   "id": "60c711da",
   "metadata": {},
   "outputs": [],
   "source": [
    "import pandas as pd\n",
    "import rdkit\n",
    "from chembl_webresource_client.new_client import new_client"
   ]
  },
  {
   "cell_type": "code",
   "execution_count": 24,
   "id": "0ff81440",
   "metadata": {},
   "outputs": [
    {
     "ename": "AttributeError",
     "evalue": "'QuerySet' object has no attribute 'remove'",
     "output_type": "error",
     "traceback": [
      "\u001b[31m---------------------------------------------------------------------------\u001b[39m",
      "\u001b[31mAttributeError\u001b[39m                            Traceback (most recent call last)",
      "\u001b[36mCell\u001b[39m\u001b[36m \u001b[39m\u001b[32mIn[24]\u001b[39m\u001b[32m, line 14\u001b[39m\n\u001b[32m     12\u001b[39m smiles = data[\u001b[33m'\u001b[39m\u001b[33mcanonical_smiles\u001b[39m\u001b[33m'\u001b[39m]\n\u001b[32m     13\u001b[39m \u001b[38;5;28;01mif\u001b[39;00m smiles \u001b[38;5;129;01mis\u001b[39;00m \u001b[38;5;28;01mNone\u001b[39;00m:\n\u001b[32m---> \u001b[39m\u001b[32m14\u001b[39m     \u001b[43mmolecule_data\u001b[49m\u001b[43m.\u001b[49m\u001b[43mremove\u001b[49m(data)    \n\u001b[32m     15\u001b[39m \u001b[38;5;28;01mif\u001b[39;00m rdkit.Chem.MolFromSmiles(smiles) \u001b[38;5;129;01mis\u001b[39;00m \u001b[38;5;28;01mNone\u001b[39;00m:\n\u001b[32m     16\u001b[39m     molecule_data.remove(data)\n",
      "\u001b[31mAttributeError\u001b[39m: 'QuerySet' object has no attribute 'remove'"
     ]
    }
   ],
   "source": [
    "# Создаем API\n",
    "\n",
    "activity_api= new_client.activity.filter(target_chembl_id='CHEMBL230', type='IC50').only('molecule_chembl_id','canonical_smiles', 'standard_value', 'units')\n",
    "\n",
    "# Еще немного фильтруем ()\n",
    "\n",
    "molecule_data = activity_api.filter(type='IC50', standard_value__lte=1000, unit='nM')\n",
    "\n",
    "# Функция, проверяющая корректность SMILES молекулы и ее применение\n",
    "\n",
    "for data in molecule_data:\n",
    "    smiles = data['canonical_smiles']\n",
    "    if smiles is None:\n",
    "        molecule_data.remove(data)    \n",
    "    if rdkit.Chem.MolFromSmiles(smiles) is None:\n",
    "        molecule_data.remove(data)\n",
    "\n",
    "# Создание DataFrame\n",
    "\n",
    "df = pd.DataFrame(molecule_data)\n",
    "\n",
    "# Фильтрация от дубликатов\n",
    "\n",
    "df = pd.DataFrame.drop_duplicates(df, subset='canonical_smiles')\n",
    "\n",
    "# Запись результата в .csv файл\n",
    "\n",
    "with open('Parsing_res.csv', 'w', newline='', encoding='utf-8'):\n",
    "    df.to_csv('Parsing_res.csv', columns = ['molecule_chembl_id','canonical_smiles', 'standard_value', 'units'], index = False)"
   ]
  },
  {
   "cell_type": "code",
   "execution_count": null,
   "id": "0602f9dc",
   "metadata": {},
   "outputs": [],
   "source": []
  }
 ],
 "metadata": {
  "kernelspec": {
   "display_name": "jupyter",
   "language": "python",
   "name": "jupyter"
  },
  "language_info": {
   "codemirror_mode": {
    "name": "ipython",
    "version": 3
   },
   "file_extension": ".py",
   "mimetype": "text/x-python",
   "name": "python",
   "nbconvert_exporter": "python",
   "pygments_lexer": "ipython3",
   "version": "3.11.12"
  }
 },
 "nbformat": 4,
 "nbformat_minor": 5
}
